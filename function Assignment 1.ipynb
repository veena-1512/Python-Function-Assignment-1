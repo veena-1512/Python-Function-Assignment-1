{
 "cells": [
  {
   "cell_type": "markdown",
   "id": "ffd01ce8-0a0e-4ec0-8c99-987dad832a04",
   "metadata": {},
   "source": [
    "1.The keyword used to create a function is \"def\". Here's an example of a function that returns a list of odd numbers in the range of 1 to 25:\n",
    "python"
   ]
  },
  {
   "cell_type": "code",
   "execution_count": 1,
   "id": "84dfb7f0-f34b-4f33-bbe0-54ab26e9c021",
   "metadata": {},
   "outputs": [],
   "source": [
    "def get_odd_numbers():\n",
    "    odd_numbers = []\n",
    "    for num in range(1, 26):\n",
    "        if num % 2 != 0:\n",
    "            odd_numbers.append(num)\n",
    "    return odd_numbers"
   ]
  },
  {
   "cell_type": "code",
   "execution_count": 4,
   "id": "52e81ad1-3593-48cf-a96f-e4208ad1fdae",
   "metadata": {},
   "outputs": [
    {
     "name": "stdout",
     "output_type": "stream",
     "text": [
      "[1, 3, 5, 7, 9, 11, 13, 15, 17, 19, 21, 23, 25]\n"
     ]
    }
   ],
   "source": [
    "result=get_odd_numbers()\n",
    "print(result)"
   ]
  },
  {
   "cell_type": "markdown",
   "id": "4f892156-625d-4e12-a08f-e5a6ab719cb8",
   "metadata": {},
   "source": [
    "2.*args and **kwargs are special syntaxes used in function definitions to handle arbitrary numbers of arguments.\n",
    "\n"
   ]
  },
  {
   "cell_type": "markdown",
   "id": "d5af0705-0ed8-434d-9ade-05d34bd10af3",
   "metadata": {},
   "source": [
    "Example for *args."
   ]
  },
  {
   "cell_type": "code",
   "execution_count": 5,
   "id": "ddb36e41-b63f-4ac9-9397-e45494c472c7",
   "metadata": {},
   "outputs": [],
   "source": [
    "def print_args(*args):\n",
    "    for arg in args:\n",
    "        print(arg)"
   ]
  },
  {
   "cell_type": "code",
   "execution_count": 7,
   "id": "b586e8d3-9032-443b-a581-b4dc07d498c2",
   "metadata": {},
   "outputs": [
    {
     "name": "stdout",
     "output_type": "stream",
     "text": [
      "1\n",
      "2\n",
      "3\n",
      "4\n",
      "52.34\n",
      "pwskills\n"
     ]
    }
   ],
   "source": [
    "print_args(1,2,3,4,52.34,'pwskills')"
   ]
  },
  {
   "cell_type": "markdown",
   "id": "bd695678-808a-41e6-8bfd-7f9b10b3eb94",
   "metadata": {},
   "source": [
    "Example for **kwargs"
   ]
  },
  {
   "cell_type": "code",
   "execution_count": 9,
   "id": "23b2caee-6ae4-4f22-8ea3-047112535527",
   "metadata": {},
   "outputs": [
    {
     "name": "stdout",
     "output_type": "stream",
     "text": [
      "name: veena\n",
      "age: 30\n",
      "city: New Delhi\n"
     ]
    }
   ],
   "source": [
    "def print_person_details(**kwargs):\n",
    "    for key, value in kwargs.items():\n",
    "        print(key + \": \" + value)\n",
    "\n",
    "print_person_details(name=\"veena\", age=\"30\", city=\"New Delhi\")"
   ]
  },
  {
   "cell_type": "markdown",
   "id": "646142a1-fab1-4a4e-8b48-13f791ac0e34",
   "metadata": {
    "jp-MarkdownHeadingCollapsed": true,
    "tags": []
   },
   "source": [
    "3. An iterator is an object that implements the iterator protocol, which consists of two methods: __iter__() and __next__(). \n",
    "The __iter__() method is used to initialize an iterator object.\n",
    "The __next__() method is used to retrieve the next element from the iterato."
   ]
  },
  {
   "cell_type": "code",
   "execution_count": 10,
   "id": "0f23b60e-3429-4bd0-a3cf-516a62bbd78c",
   "metadata": {
    "jp-MarkdownHeadingCollapsed": true,
    "tags": []
   },
   "outputs": [],
   "source": [
    "l=[2,4,5,7,8,9,12,34,56]"
   ]
  },
  {
   "cell_type": "code",
   "execution_count": 13,
   "id": "0a0d762d-0730-4d9d-82fc-2864ab47cd5a",
   "metadata": {},
   "outputs": [
    {
     "name": "stdout",
     "output_type": "stream",
     "text": [
      "2\n",
      "4\n",
      "5\n",
      "7\n",
      "8\n",
      "9\n",
      "12\n"
     ]
    }
   ],
   "source": [
    "my_iterator = iter(l)\n",
    "for _ in range(7):\n",
    "    print(next(my_iterator))\n"
   ]
  },
  {
   "cell_type": "markdown",
   "id": "8eb8a081-57c8-47d5-bd14-740e37d5a7e1",
   "metadata": {},
   "source": [
    "4. A generator function is a special type of function that generates an iterator. It uses the yield keyword to produce a series of values one at a time.The yield keyword is used in a generator function to define points at which the function should yield a value to the caller."
   ]
  },
  {
   "cell_type": "markdown",
   "id": "3fb9032c-4fef-4b2c-b243-46a4fcb96a2a",
   "metadata": {},
   "source": [
    "Example for 'yield' key words,"
   ]
  },
  {
   "cell_type": "code",
   "execution_count": 5,
   "id": "a1a7145b-d280-4e4b-8708-c5f0f6d76e53",
   "metadata": {},
   "outputs": [],
   "source": [
    "def test_fib(n):\n",
    "    a,b = (0,1)\n",
    "    for i in range(n):\n",
    "        yield a\n",
    "        a,b = a,a+b      "
   ]
  },
  {
   "cell_type": "code",
   "execution_count": 6,
   "id": "80a556f4-0a24-484a-8b18-7995adc2ec44",
   "metadata": {},
   "outputs": [
    {
     "name": "stdout",
     "output_type": "stream",
     "text": [
      "0\n",
      "1\n",
      "2\n",
      "3\n",
      "4\n",
      "5\n",
      "6\n",
      "7\n",
      "8\n",
      "9\n"
     ]
    }
   ],
   "source": [
    "for i in range(10):\n",
    "    print(i)"
   ]
  },
  {
   "cell_type": "markdown",
   "id": "2687e701-dfcd-4470-a133-d7f8c48f1fc8",
   "metadata": {},
   "source": [
    "5. Generator function that generates prime numbers less than 1000 and uses the next() method to print the first 20 prime numbers:"
   ]
  },
  {
   "cell_type": "code",
   "execution_count": 7,
   "id": "522123c8-fde2-47f2-8ea0-fd37550d2b59",
   "metadata": {},
   "outputs": [],
   "source": [
    "def prime_generator():\n",
    "    l = []\n",
    "    num = 2\n",
    "    while num < 1000:\n",
    "        is_prime = True\n",
    "        for prime in l:\n",
    "            if num % prime == 0:\n",
    "                is_prime = False\n",
    "                break\n",
    "        if is_prime:\n",
    "            l.append(num)\n",
    "            yield num\n",
    "        num += 1"
   ]
  },
  {
   "cell_type": "code",
   "execution_count": 8,
   "id": "acf5c8fa-64ff-455c-903a-a9cb67b9b52c",
   "metadata": {},
   "outputs": [
    {
     "name": "stdout",
     "output_type": "stream",
     "text": [
      "2\n",
      "3\n",
      "5\n",
      "7\n",
      "11\n",
      "13\n",
      "17\n",
      "19\n",
      "23\n",
      "29\n",
      "31\n",
      "37\n",
      "41\n",
      "43\n",
      "47\n",
      "53\n",
      "59\n",
      "61\n",
      "67\n",
      "71\n"
     ]
    }
   ],
   "source": [
    "prime_gen = prime_generator()\n",
    "for _ in range(20):\n",
    "    prime = next(prime_gen)\n",
    "    print(prime)"
   ]
  },
  {
   "cell_type": "markdown",
   "id": "a4d07072-8788-4157-bd5c-8af0ad3aa00a",
   "metadata": {},
   "source": [
    "6.The first 10 Fibonacci numbers using a while loop:"
   ]
  },
  {
   "cell_type": "code",
   "execution_count": 16,
   "id": "82d49c8c-68b9-40a0-9176-3c404970d091",
   "metadata": {},
   "outputs": [
    {
     "name": "stdout",
     "output_type": "stream",
     "text": [
      "0\n",
      "1\n",
      "1\n",
      "2\n",
      "3\n",
      "5\n",
      "8\n",
      "13\n",
      "21\n",
      "34\n"
     ]
    }
   ],
   "source": [
    "fib1 = 0\n",
    "fib2 = 1\n",
    "count = 0\n",
    "while count < 10:\n",
    "    print(fib1)\n",
    "    next_fib = fib1 + fib2\n",
    "    fib1 = fib2\n",
    "    fib2 = next_fib\n",
    "\n",
    "    count += 1"
   ]
  },
  {
   "cell_type": "markdown",
   "id": "64ca9285-0c54-4070-8073-e82fb170a6c5",
   "metadata": {},
   "source": [
    "7. A list comprehension that iterates through the given string 'pwskills':"
   ]
  },
  {
   "cell_type": "code",
   "execution_count": 33,
   "id": "7dc211d5-9863-45e9-992b-481c0da73393",
   "metadata": {},
   "outputs": [
    {
     "name": "stdout",
     "output_type": "stream",
     "text": [
      "['p', 'w', 's', 'k', 'i', 'l', 'l', 's']\n"
     ]
    }
   ],
   "source": [
    "string = 'pwskills'\n",
    "result = [char for char in string]\n",
    "\n",
    "print(result)"
   ]
  },
  {
   "cell_type": "markdown",
   "id": "c336f6da-c449-4d47-896b-1222d6b4c045",
   "metadata": {},
   "source": [
    "8. Write a python program to check whether a given number is Palindrome or not using a while loop"
   ]
  },
  {
   "cell_type": "code",
   "execution_count": 35,
   "id": "94a44cc9-5685-4e84-9a65-7461fe85fbcc",
   "metadata": {},
   "outputs": [
    {
     "name": "stdin",
     "output_type": "stream",
     "text": [
      "Enter a number:  123467\n"
     ]
    },
    {
     "name": "stdout",
     "output_type": "stream",
     "text": [
      "123467 is not a palindrome\n"
     ]
    }
   ],
   "source": [
    "def is_palindrome(number):\n",
    "    original_number = number\n",
    "    reverse_number = 0\n",
    "\n",
    "    while number > 0:\n",
    "        digit = number % 10\n",
    "        reverse_number = (reverse_number * 10) + digit\n",
    "        number = number // 10\n",
    "\n",
    "    return original_number == reverse_number\n",
    "number = int(input(\"Enter a number: \"))\n",
    "\n",
    "if is_palindrome(number):\n",
    "    print(number, \"is a palindrome\")\n",
    "else:\n",
    "    print(number, \"is not a palindrome\")\n"
   ]
  },
  {
   "cell_type": "markdown",
   "id": "6e52a352-bae4-4345-a907-be72412dab1c",
   "metadata": {},
   "source": [
    "9. Code for list comprehension to print the odd numbers from 1 to 100:"
   ]
  },
  {
   "cell_type": "code",
   "execution_count": 3,
   "id": "6c658ad6-97de-4276-a4d8-889bdacd5ec2",
   "metadata": {},
   "outputs": [
    {
     "name": "stdout",
     "output_type": "stream",
     "text": [
      "[1, 3, 5, 7, 9, 11, 13, 15, 17, 19, 21, 23, 25, 27, 29, 31, 33, 35, 37, 39, 41, 43, 45, 47, 49, 51, 53, 55, 57, 59, 61, 63, 65, 67, 69, 71, 73, 75, 77, 79, 81, 83, 85, 87, 89, 91, 93, 95, 97, 99]\n"
     ]
    }
   ],
   "source": [
    "odd_numbers = [num for num in range(1, 101) if num % 2 != 0]\n",
    "print(odd_numbers)"
   ]
  },
  {
   "cell_type": "code",
   "execution_count": null,
   "id": "784e3616-c056-4347-a582-b5831d8b71c6",
   "metadata": {},
   "outputs": [],
   "source": []
  }
 ],
 "metadata": {
  "kernelspec": {
   "display_name": "Python 3 (ipykernel)",
   "language": "python",
   "name": "python3"
  },
  "language_info": {
   "codemirror_mode": {
    "name": "ipython",
    "version": 3
   },
   "file_extension": ".py",
   "mimetype": "text/x-python",
   "name": "python",
   "nbconvert_exporter": "python",
   "pygments_lexer": "ipython3",
   "version": "3.10.8"
  }
 },
 "nbformat": 4,
 "nbformat_minor": 5
}
